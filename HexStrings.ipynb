{
 "cells": [
  {
   "cell_type": "markdown",
   "id": "73a5f2ed",
   "metadata": {},
   "source": [
    "# This program generates 10 random hex strings 64 chars long"
   ]
  },
  {
   "cell_type": "code",
   "execution_count": 2,
   "id": "f92d1320",
   "metadata": {},
   "outputs": [
    {
     "name": "stdout",
     "output_type": "stream",
     "text": [
      "7d109735fed7e4dddf64c671b9f1e9f9a64493580dddc1efe091a163e01fc02e\n",
      "cec63976cb0e332059b8ace2af99a5306f7769db58da6dcb2ea40a087cc94fb8\n",
      "234e6fb02dad443c6e29954428de7ce3a15b8468ea23b7e754f399a0da023aad\n",
      "382be32c9820916b4fbcb020671667a98c7ca18b2864ceef0ff9071406253fb8\n",
      "e990caabbcc6457155c8d58b0d627d85de0ffddfd8bbd42158596d44498ba3f6\n",
      "f06bf6baca821c391584ecbf7f50cbd4984733094e3cdc5892bc420546cf9a65\n",
      "e217d74d8cd2caa5d4810e7793dac17523264dd78b59f502e4f0c1a1bf5c1854\n",
      "23e5cdc561f3de6ea30baf170621c84f1d8914f2608612586a3bdb570c6b426b\n",
      "d499eef9ff9e125b090fb3581a1078e62426ddf43262fd85f65befd4d08d5738\n",
      "1f00884e8bf4029a1789f18947dddf9ee91327e61d9911b08cac359c2195dac9\n"
     ]
    }
   ],
   "source": [
    "import secrets\n",
    "\n",
    "for i in range(10):\n",
    "    try:\n",
    "        foo = [0,1,2,3,4,5,6,7,8,9,'a','b','c','d','e','f']\n",
    "        h = ''\n",
    "        for i in range(64):\n",
    "            h +=(str(secrets.choice(foo)))\n",
    "            h += ''\n",
    "        print(h)\n",
    "    except:\n",
    "        print(\"Exception\")"
   ]
  }
 ],
 "metadata": {
  "kernelspec": {
   "display_name": "Python 3",
   "language": "python",
   "name": "python3"
  },
  "language_info": {
   "codemirror_mode": {
    "name": "ipython",
    "version": 3
   },
   "file_extension": ".py",
   "mimetype": "text/x-python",
   "name": "python",
   "nbconvert_exporter": "python",
   "pygments_lexer": "ipython3",
   "version": "3.8.8"
  }
 },
 "nbformat": 4,
 "nbformat_minor": 5
}
