{
 "cells": [
  {
   "cell_type": "code",
   "execution_count": 4,
   "id": "526ce59c",
   "metadata": {},
   "outputs": [
    {
     "name": "stdout",
     "output_type": "stream",
     "text": [
      "Provide the size of the array: \n",
      "Only enter a number\n",
      "Please Retry:\n",
      "Provide the size of the array: 12\n",
      "Array :  [1, 2, 3, 4, 5, 6, 7, 8, 9, 10, 11, 12]\n",
      "Number of permutations for this array:  479001600\n",
      "Elapsed time during whole program:  0:00:33.138382  HH:MM:SS:MMMM\n"
     ]
    }
   ],
   "source": [
    "#about this program\n",
    "#Counts the time taken to calculate how many permutations there are for the input number\n",
    "\n",
    "import itertools\n",
    "import time\n",
    "from datetime import timedelta\n",
    "from time import process_time\n",
    "from itertools import permutations\n",
    "\n",
    "def main():\n",
    "    while True:\n",
    "        try:\n",
    "            #Ask user how many elements are in the list\n",
    "            arraylength = int(input(\"Provide the size of the array: \"))\n",
    "            l = []\n",
    "            for i in range(arraylength):\n",
    "                l.append(i+1)\n",
    "            print(\"Array : \", l)\n",
    "\n",
    "            # making the list\n",
    "            X = permutations(l)\n",
    "\n",
    "            #Start timer\n",
    "            t1_start = process_time()\n",
    "\n",
    "            #find number of permutations\n",
    "            length = sum(1 for ignore in X)\n",
    "            print(\"Number of permutations for this array: \", length)\n",
    "\n",
    "            #Show time it takes for program to run, stop timer\n",
    "            t1_stop = process_time()\n",
    "            elapsed = t1_stop-t1_start\n",
    "\n",
    "            #Print difference between start and stop timer\n",
    "            print(\"Elapsed time during whole program: \", (timedelta(seconds=elapsed)), \" HH:MM:SS:MMMM\")\n",
    "            break\n",
    "        except:\n",
    "            print(\"Only enter a number\\nPlease Retry:\")\n",
    "\n",
    "if __name__ == \"__main__\":\n",
    "    main()"
   ]
  },
  {
   "cell_type": "markdown",
   "id": "35f029a9",
   "metadata": {},
   "source": [
    "It takes 33 seconds to create an array of all the combintations for an array input of 12"
   ]
  }
 ],
 "metadata": {
  "kernelspec": {
   "display_name": "Python 3",
   "language": "python",
   "name": "python3"
  },
  "language_info": {
   "codemirror_mode": {
    "name": "ipython",
    "version": 3
   },
   "file_extension": ".py",
   "mimetype": "text/x-python",
   "name": "python",
   "nbconvert_exporter": "python",
   "pygments_lexer": "ipython3",
   "version": "3.8.8"
  }
 },
 "nbformat": 4,
 "nbformat_minor": 5
}
